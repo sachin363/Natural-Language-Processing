{
  "nbformat": 4,
  "nbformat_minor": 0,
  "metadata": {
    "colab": {
      "name": "Bag of word moddel_N-gram_model.ipynb",
      "provenance": [],
      "collapsed_sections": []
    },
    "kernelspec": {
      "name": "python3",
      "display_name": "Python 3"
    },
    "accelerator": "GPU"
  },
  "cells": [
    {
      "cell_type": "code",
      "metadata": {
        "id": "xqUrT3D4NHiX",
        "colab_type": "code",
        "colab": {
          "base_uri": "https://localhost:8080/",
          "height": 183
        },
        "outputId": "c2c74d9a-b0a8-439e-9770-6121edeae3af"
      },
      "source": [
        "!pip install nltk\n",
        "import nltk\n",
        "nltk.download()\n",
        "nltk.download('punkt')  # depend text file and your program "
      ],
      "execution_count": 1,
      "outputs": [
        {
          "output_type": "stream",
          "text": [
            "Requirement already satisfied: nltk in /usr/local/lib/python3.6/dist-packages (3.2.5)\n",
            "Requirement already satisfied: six in /usr/local/lib/python3.6/dist-packages (from nltk) (1.15.0)\n",
            "NLTK Downloader\n",
            "---------------------------------------------------------------------------\n",
            "    d) Download   l) List    u) Update   c) Config   h) Help   q) Quit\n",
            "---------------------------------------------------------------------------\n",
            "Downloader> q\n",
            "[nltk_data] Downloading package punkt to /root/nltk_data...\n",
            "[nltk_data]   Unzipping tokenizers/punkt.zip.\n"
          ],
          "name": "stdout"
        },
        {
          "output_type": "execute_result",
          "data": {
            "text/plain": [
              "True"
            ]
          },
          "metadata": {
            "tags": []
          },
          "execution_count": 1
        }
      ]
    },
    {
      "cell_type": "code",
      "metadata": {
        "id": "aunNDU9HRzq7",
        "colab_type": "code",
        "colab": {}
      },
      "source": [
        "text = \" I think it might rain today and tomorrow will be sunny.\""
      ],
      "execution_count": 2,
      "outputs": []
    },
    {
      "cell_type": "code",
      "metadata": {
        "id": "OV3JvImQSCxR",
        "colab_type": "code",
        "colab": {}
      },
      "source": [
        "tokens = nltk.word_tokenize(text) # word tokenizing"
      ],
      "execution_count": 3,
      "outputs": []
    },
    {
      "cell_type": "code",
      "metadata": {
        "id": "3G9-T5NTSM0b",
        "colab_type": "code",
        "colab": {
          "base_uri": "https://localhost:8080/",
          "height": 217
        },
        "outputId": "d34976eb-cf5f-4e3b-b922-40a7a4233c77"
      },
      "source": [
        "tokens"
      ],
      "execution_count": 4,
      "outputs": [
        {
          "output_type": "execute_result",
          "data": {
            "text/plain": [
              "['I',\n",
              " 'think',\n",
              " 'it',\n",
              " 'might',\n",
              " 'rain',\n",
              " 'today',\n",
              " 'and',\n",
              " 'tomorrow',\n",
              " 'will',\n",
              " 'be',\n",
              " 'sunny',\n",
              " '.']"
            ]
          },
          "metadata": {
            "tags": []
          },
          "execution_count": 4
        }
      ]
    },
    {
      "cell_type": "code",
      "metadata": {
        "id": "uiHjpeVhSPxi",
        "colab_type": "code",
        "colab": {}
      },
      "source": [
        "bigrams=nltk.bigrams(tokens) #n=2"
      ],
      "execution_count": 7,
      "outputs": []
    },
    {
      "cell_type": "code",
      "metadata": {
        "id": "ZAlE1Ac6ScpD",
        "colab_type": "code",
        "colab": {
          "base_uri": "https://localhost:8080/",
          "height": 200
        },
        "outputId": "0730858e-25ba-48dc-f9af-3d209045504d"
      },
      "source": [
        "for item in bigrams:  # item is temporary variable\n",
        "    print(item)"
      ],
      "execution_count": 8,
      "outputs": [
        {
          "output_type": "stream",
          "text": [
            "('I', 'think')\n",
            "('think', 'it')\n",
            "('it', 'might')\n",
            "('might', 'rain')\n",
            "('rain', 'today')\n",
            "('today', 'and')\n",
            "('and', 'tomorrow')\n",
            "('tomorrow', 'will')\n",
            "('will', 'be')\n",
            "('be', 'sunny')\n",
            "('sunny', '.')\n"
          ],
          "name": "stdout"
        }
      ]
    },
    {
      "cell_type": "code",
      "metadata": {
        "id": "3ZMPd_8gSk3i",
        "colab_type": "code",
        "colab": {}
      },
      "source": [
        "trigrams = nltk.trigrams(tokens) # n=3"
      ],
      "execution_count": 9,
      "outputs": []
    },
    {
      "cell_type": "code",
      "metadata": {
        "id": "Ap4dqP2JStV7",
        "colab_type": "code",
        "colab": {
          "base_uri": "https://localhost:8080/",
          "height": 183
        },
        "outputId": "f4724273-1f15-47b4-e620-0141d9c50627"
      },
      "source": [
        "for item in trigrams:\n",
        "  print(item)"
      ],
      "execution_count": 10,
      "outputs": [
        {
          "output_type": "stream",
          "text": [
            "('I', 'think', 'it')\n",
            "('think', 'it', 'might')\n",
            "('it', 'might', 'rain')\n",
            "('might', 'rain', 'today')\n",
            "('rain', 'today', 'and')\n",
            "('today', 'and', 'tomorrow')\n",
            "('and', 'tomorrow', 'will')\n",
            "('tomorrow', 'will', 'be')\n",
            "('will', 'be', 'sunny')\n",
            "('be', 'sunny', '.')\n"
          ],
          "name": "stdout"
        }
      ]
    },
    {
      "cell_type": "code",
      "metadata": {
        "id": "BnHcdU6cSz_A",
        "colab_type": "code",
        "colab": {}
      },
      "source": [
        "from nltk.util import ngrams "
      ],
      "execution_count": 12,
      "outputs": []
    },
    {
      "cell_type": "code",
      "metadata": {
        "id": "CggC6pZ6YV0X",
        "colab_type": "code",
        "colab": {}
      },
      "source": [
        "text = \"If it is nice out, I will go to the beach and have a bath.\""
      ],
      "execution_count": 20,
      "outputs": []
    },
    {
      "cell_type": "code",
      "metadata": {
        "id": "jaFzjF8vYWsB",
        "colab_type": "code",
        "colab": {}
      },
      "source": [
        "tokens=nltk.word_tokenize(text)"
      ],
      "execution_count": 21,
      "outputs": []
    },
    {
      "cell_type": "code",
      "metadata": {
        "id": "kKtv__nGTG8P",
        "colab_type": "code",
        "colab": {}
      },
      "source": [
        "grams=nltk.ngrams(tokens,4) # its depend on you , to select the n "
      ],
      "execution_count": 24,
      "outputs": []
    },
    {
      "cell_type": "code",
      "metadata": {
        "id": "wFnRuHqXVYaV",
        "colab_type": "code",
        "colab": {
          "base_uri": "https://localhost:8080/",
          "height": 167
        },
        "outputId": "f00d8ba7-fc05-4436-ad0a-71b8846c1802"
      },
      "source": [
        "for item in grams:\n",
        "  print(item)"
      ],
      "execution_count": 19,
      "outputs": [
        {
          "output_type": "stream",
          "text": [
            "('I', 'think', 'it', 'might')\n",
            "('think', 'it', 'might', 'rain')\n",
            "('it', 'might', 'rain', 'today')\n",
            "('might', 'rain', 'today', 'and')\n",
            "('rain', 'today', 'and', 'tomorrow')\n",
            "('today', 'and', 'tomorrow', 'will')\n",
            "('and', 'tomorrow', 'will', 'be')\n",
            "('tomorrow', 'will', 'be', 'sunny')\n",
            "('will', 'be', 'sunny', '.')\n"
          ],
          "name": "stdout"
        }
      ]
    },
    {
      "cell_type": "markdown",
      "metadata": {
        "id": "wGCLb9IxWJJ3",
        "colab_type": "text"
      },
      "source": [
        "We can build a function to find any ngram."
      ]
    },
    {
      "cell_type": "code",
      "metadata": {
        "id": "_-jlVMOeVd5w",
        "colab_type": "code",
        "colab": {}
      },
      "source": [
        "def ngrams(text,n):\n",
        "  tokens=nltk.word_tokenize(text)\n",
        "  grams=nltk.ngrams(tokens,n)\n",
        "  return grams\n"
      ],
      "execution_count": 30,
      "outputs": []
    },
    {
      "cell_type": "code",
      "metadata": {
        "id": "xYzlzArXZGag",
        "colab_type": "code",
        "colab": {}
      },
      "source": [
        "text = \"I think it might rain today, but if it is nice out, I will go to the beach.\""
      ],
      "execution_count": 31,
      "outputs": []
    },
    {
      "cell_type": "code",
      "metadata": {
        "id": "HV4lXmrbY-48",
        "colab_type": "code",
        "colab": {}
      },
      "source": [
        "grams = ngrams(text, 5)"
      ],
      "execution_count": 32,
      "outputs": []
    },
    {
      "cell_type": "code",
      "metadata": {
        "id": "3o--yMnAZMsh",
        "colab_type": "code",
        "colab": {
          "base_uri": "https://localhost:8080/",
          "height": 300
        },
        "outputId": "64476cd3-4724-4a49-b0d1-442553a2009f"
      },
      "source": [
        "for item in grams:\n",
        "  print(item)"
      ],
      "execution_count": 33,
      "outputs": [
        {
          "output_type": "stream",
          "text": [
            "('I', 'think', 'it', 'might', 'rain')\n",
            "('think', 'it', 'might', 'rain', 'today')\n",
            "('it', 'might', 'rain', 'today', ',')\n",
            "('might', 'rain', 'today', ',', 'but')\n",
            "('rain', 'today', ',', 'but', 'if')\n",
            "('today', ',', 'but', 'if', 'it')\n",
            "(',', 'but', 'if', 'it', 'is')\n",
            "('but', 'if', 'it', 'is', 'nice')\n",
            "('if', 'it', 'is', 'nice', 'out')\n",
            "('it', 'is', 'nice', 'out', ',')\n",
            "('is', 'nice', 'out', ',', 'I')\n",
            "('nice', 'out', ',', 'I', 'will')\n",
            "('out', ',', 'I', 'will', 'go')\n",
            "(',', 'I', 'will', 'go', 'to')\n",
            "('I', 'will', 'go', 'to', 'the')\n",
            "('will', 'go', 'to', 'the', 'beach')\n",
            "('go', 'to', 'the', 'beach', '.')\n"
          ],
          "name": "stdout"
        }
      ]
    },
    {
      "cell_type": "code",
      "metadata": {
        "id": "eXxhMVnQZT5D",
        "colab_type": "code",
        "colab": {}
      },
      "source": [
        ""
      ],
      "execution_count": null,
      "outputs": []
    }
  ]
}