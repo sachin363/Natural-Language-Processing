{
  "nbformat": 4,
  "nbformat_minor": 0,
  "metadata": {
    "colab": {
      "name": "TextBlob.ipynb",
      "provenance": []
    },
    "kernelspec": {
      "name": "python3",
      "display_name": "Python 3"
    }
  },
  "cells": [
    {
      "cell_type": "markdown",
      "metadata": {
        "id": "_46a9YIp5Xpi",
        "colab_type": "text"
      },
      "source": [
        "# A Tour of TextBlob"
      ]
    },
    {
      "cell_type": "code",
      "metadata": {
        "id": "ePfKfuWa5hPQ",
        "colab_type": "code",
        "colab": {
          "base_uri": "https://localhost:8080/",
          "height": 67
        },
        "outputId": "ba204e3d-ee45-41c2-b87d-eb874b1b7f52"
      },
      "source": [
        "!pip install textblob      \n",
        "\n",
        "import textblob            #to import\n",
        "from textblob import TextBlob"
      ],
      "execution_count": 1,
      "outputs": [
        {
          "output_type": "stream",
          "text": [
            "Requirement already satisfied: textblob in /usr/local/lib/python3.6/dist-packages (0.15.3)\n",
            "Requirement already satisfied: nltk>=3.1 in /usr/local/lib/python3.6/dist-packages (from textblob) (3.2.5)\n",
            "Requirement already satisfied: six in /usr/local/lib/python3.6/dist-packages (from nltk>=3.1->textblob) (1.15.0)\n"
          ],
          "name": "stdout"
        }
      ]
    },
    {
      "cell_type": "code",
      "metadata": {
        "id": "fwVcevt85Xpn",
        "colab_type": "code",
        "colab": {}
      },
      "source": [
        "text = \"TextBlob and Ipython Notebook make a perfect match and i am writing a code  specially of NLP classs.\"\n",
        "blob = TextBlob(text)"
      ],
      "execution_count": 2,
      "outputs": []
    },
    {
      "cell_type": "markdown",
      "metadata": {
        "id": "YKqZRYQ55Xpu",
        "colab_type": "text"
      },
      "source": [
        "Now let's see the magic."
      ]
    },
    {
      "cell_type": "code",
      "metadata": {
        "id": "djEkk77u5Xpv",
        "colab_type": "code",
        "colab": {
          "base_uri": "https://localhost:8080/",
          "height": 433
        },
        "outputId": "73cc50dc-f767-4626-c2a2-b09e828f8716"
      },
      "source": [
        "!pip install nltk # part of speech (pos) telling noun,verb,preposition english \n",
        "import nltk\n",
        "nltk.download('punkt') # dependency issue that is why I used NLTk also\n",
        "nltk.download('averaged_perceptron_tagger')\n",
        "blob.tags"
      ],
      "execution_count": 3,
      "outputs": [
        {
          "output_type": "stream",
          "text": [
            "Requirement already satisfied: nltk in /usr/local/lib/python3.6/dist-packages (3.2.5)\n",
            "Requirement already satisfied: six in /usr/local/lib/python3.6/dist-packages (from nltk) (1.15.0)\n",
            "[nltk_data] Downloading package punkt to /root/nltk_data...\n",
            "[nltk_data]   Unzipping tokenizers/punkt.zip.\n",
            "[nltk_data] Downloading package averaged_perceptron_tagger to\n",
            "[nltk_data]     /root/nltk_data...\n",
            "[nltk_data]   Unzipping taggers/averaged_perceptron_tagger.zip.\n"
          ],
          "name": "stdout"
        },
        {
          "output_type": "execute_result",
          "data": {
            "text/plain": [
              "[('TextBlob', 'NNP'),\n",
              " ('and', 'CC'),\n",
              " ('Ipython', 'NNP'),\n",
              " ('Notebook', 'NNP'),\n",
              " ('make', 'VBP'),\n",
              " ('a', 'DT'),\n",
              " ('perfect', 'JJ'),\n",
              " ('match', 'NN'),\n",
              " ('and', 'CC'),\n",
              " ('i', 'VB'),\n",
              " ('am', 'VBP'),\n",
              " ('writing', 'VBG'),\n",
              " ('a', 'DT'),\n",
              " ('code', 'NN'),\n",
              " ('specially', 'RB'),\n",
              " ('of', 'IN'),\n",
              " ('NLP', 'NNP'),\n",
              " ('classs', 'NN')]"
            ]
          },
          "metadata": {
            "tags": []
          },
          "execution_count": 3
        }
      ]
    },
    {
      "cell_type": "code",
      "metadata": {
        "id": "LMG5xMvm5Xpz",
        "colab_type": "code",
        "colab": {
          "base_uri": "https://localhost:8080/",
          "height": 67
        },
        "outputId": "fb9038ae-4a8b-4242-b2b1-82abca2b2ae3"
      },
      "source": [
        "nltk.download('brown')\n",
        "blob.noun_phrases"
      ],
      "execution_count": 4,
      "outputs": [
        {
          "output_type": "stream",
          "text": [
            "[nltk_data] Downloading package brown to /root/nltk_data...\n",
            "[nltk_data]   Unzipping corpora/brown.zip.\n"
          ],
          "name": "stdout"
        },
        {
          "output_type": "execute_result",
          "data": {
            "text/plain": [
              "WordList(['textblob', 'ipython notebook', 'nlp'])"
            ]
          },
          "metadata": {
            "tags": []
          },
          "execution_count": 4
        }
      ]
    },
    {
      "cell_type": "code",
      "metadata": {
        "id": "wAs_5aqx5Xp2",
        "colab_type": "code",
        "colab": {
          "base_uri": "https://localhost:8080/",
          "height": 33
        },
        "outputId": "c37c2a21-ee2c-4b26-e114-324b23ea91d1"
      },
      "source": [
        "blob.sentiment"
      ],
      "execution_count": 5,
      "outputs": [
        {
          "output_type": "execute_result",
          "data": {
            "text/plain": [
              "Sentiment(polarity=0.6785714285714286, subjectivity=0.7857142857142857)"
            ]
          },
          "metadata": {
            "tags": []
          },
          "execution_count": 5
        }
      ]
    },
    {
      "cell_type": "code",
      "metadata": {
        "id": "PFrhjFvR5Xp6",
        "colab_type": "code",
        "colab": {}
      },
      "source": [
        "blob = TextBlob(\"I had a great time last night. The beer was good. But the hangover was horrible.\")"
      ],
      "execution_count": 6,
      "outputs": []
    },
    {
      "cell_type": "code",
      "metadata": {
        "id": "B-2mDs4c5XqA",
        "colab_type": "code",
        "colab": {
          "base_uri": "https://localhost:8080/",
          "height": 33
        },
        "outputId": "c96c43ef-f4e1-475d-b9e6-83a759f217cc"
      },
      "source": [
        "blob.words"
      ],
      "execution_count": 7,
      "outputs": [
        {
          "output_type": "execute_result",
          "data": {
            "text/plain": [
              "WordList(['I', 'had', 'a', 'great', 'time', 'last', 'night', 'The', 'beer', 'was', 'good', 'But', 'the', 'hangover', 'was', 'horrible'])"
            ]
          },
          "metadata": {
            "tags": []
          },
          "execution_count": 7
        }
      ]
    },
    {
      "cell_type": "code",
      "metadata": {
        "id": "MkEPdPK45XqD",
        "colab_type": "code",
        "colab": {
          "base_uri": "https://localhost:8080/",
          "height": 67
        },
        "outputId": "12075791-59f8-4df9-af1b-fbc7323f1233"
      },
      "source": [
        "blob.sentences"
      ],
      "execution_count": 8,
      "outputs": [
        {
          "output_type": "execute_result",
          "data": {
            "text/plain": [
              "[Sentence(\"I had a great time last night.\"),\n",
              " Sentence(\"The beer was good.\"),\n",
              " Sentence(\"But the hangover was horrible.\")]"
            ]
          },
          "metadata": {
            "tags": []
          },
          "execution_count": 8
        }
      ]
    },
    {
      "cell_type": "code",
      "metadata": {
        "id": "GaH_UTwP6yxt",
        "colab_type": "code",
        "colab": {}
      },
      "source": [
        "#subjectivity refers to expression of opinions, evaluations, feelings, and speculations (Banfield, 1982; Wiebe, 1994) and thus incorporates sentiment"
      ],
      "execution_count": null,
      "outputs": []
    },
    {
      "cell_type": "code",
      "metadata": {
        "id": "DwoKskVV62q2",
        "colab_type": "code",
        "colab": {}
      },
      "source": [
        "#Polarity in sentiment analysis refers to identifying sentiment orientation (positive, neutral, and negative) in written or spoken language. ... Subjective expressions are opinions that describe people's feelings towards a specific subject or topic."
      ],
      "execution_count": null,
      "outputs": []
    },
    {
      "cell_type": "code",
      "metadata": {
        "id": "FiOjBGx15XqG",
        "colab_type": "code",
        "colab": {
          "base_uri": "https://localhost:8080/",
          "height": 117
        },
        "outputId": "9a8550c1-41b5-4ade-9743-aead0fbb6e0c"
      },
      "source": [
        "for s in blob.sentences:\n",
        "    print(s)\n",
        "    print(s.sentiment)"
      ],
      "execution_count": 9,
      "outputs": [
        {
          "output_type": "stream",
          "text": [
            "I had a great time last night.\n",
            "Sentiment(polarity=0.4, subjectivity=0.4083333333333333)\n",
            "The beer was good.\n",
            "Sentiment(polarity=0.7, subjectivity=0.6000000000000001)\n",
            "But the hangover was horrible.\n",
            "Sentiment(polarity=-1.0, subjectivity=1.0)\n"
          ],
          "name": "stdout"
        }
      ]
    },
    {
      "cell_type": "code",
      "metadata": {
        "id": "H-z1xcKD5XqJ",
        "colab_type": "code",
        "colab": {
          "base_uri": "https://localhost:8080/",
          "height": 33
        },
        "outputId": "1d46ebf1-0bbd-4223-8129-bb5ecad13d27"
      },
      "source": [
        "blob.translate(to=\"hi\") # translated to hindi"
      ],
      "execution_count": 17,
      "outputs": [
        {
          "output_type": "execute_result",
          "data": {
            "text/plain": [
              "TextBlob(\"कल रात मेरे पास बहुत अच्छा समय था। बीयर अच्छी थी। लेकिन हैंगओवर भयानक था।\")"
            ]
          },
          "metadata": {
            "tags": []
          },
          "execution_count": 17
        }
      ]
    },
    {
      "cell_type": "code",
      "metadata": {
        "id": "kcmaFJ_x5XqN",
        "colab_type": "code",
        "colab": {
          "base_uri": "https://localhost:8080/",
          "height": 33
        },
        "outputId": "462707ac-360d-4d0c-8bcc-307386c70637"
      },
      "source": [
        "blob.words.count(\"was\")"
      ],
      "execution_count": 11,
      "outputs": [
        {
          "output_type": "execute_result",
          "data": {
            "text/plain": [
              "2"
            ]
          },
          "metadata": {
            "tags": []
          },
          "execution_count": 11
        }
      ]
    },
    {
      "cell_type": "code",
      "metadata": {
        "id": "i76I-mU45XqQ",
        "colab_type": "code",
        "colab": {}
      },
      "source": [
        ""
      ],
      "execution_count": null,
      "outputs": []
    }
  ]
}