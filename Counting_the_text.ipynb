{
  "nbformat": 4,
  "nbformat_minor": 0,
  "metadata": {
    "colab": {
      "name": "Counting_the_text.ipynb",
      "provenance": [],
      "collapsed_sections": []
    },
    "kernelspec": {
      "name": "python3",
      "display_name": "Python 3"
    },
    "accelerator": "GPU"
  },
  "cells": [
    {
      "cell_type": "code",
      "metadata": {
        "id": "rby4chndHWEy",
        "colab_type": "code",
        "colab": {
          "base_uri": "https://localhost:8080/",
          "height": 217
        },
        "outputId": "1bff5be9-11b7-4be8-a31f-fe3606076b87"
      },
      "source": [
        "!pip install nltk\n",
        "import nltk\n",
        "nltk.download()\n",
        "nltk.download('punkt')\n",
        "nltk.download('gutenberg')  # Project/module // gutenberg = consist of collection of text files"
      ],
      "execution_count": 3,
      "outputs": [
        {
          "output_type": "stream",
          "text": [
            "Requirement already satisfied: nltk in /usr/local/lib/python3.6/dist-packages (3.2.5)\n",
            "Requirement already satisfied: six in /usr/local/lib/python3.6/dist-packages (from nltk) (1.15.0)\n",
            "NLTK Downloader\n",
            "---------------------------------------------------------------------------\n",
            "    d) Download   l) List    u) Update   c) Config   h) Help   q) Quit\n",
            "---------------------------------------------------------------------------\n",
            "Downloader> q\n",
            "[nltk_data] Downloading package punkt to /root/nltk_data...\n",
            "[nltk_data]   Unzipping tokenizers/punkt.zip.\n",
            "[nltk_data] Downloading package gutenberg to /root/nltk_data...\n",
            "[nltk_data]   Unzipping corpora/gutenberg.zip.\n"
          ],
          "name": "stdout"
        },
        {
          "output_type": "execute_result",
          "data": {
            "text/plain": [
              "True"
            ]
          },
          "metadata": {
            "tags": []
          },
          "execution_count": 3
        }
      ]
    },
    {
      "cell_type": "code",
      "metadata": {
        "id": "mIEKUxarHhBP",
        "colab_type": "code",
        "colab": {
          "base_uri": "https://localhost:8080/",
          "height": 317
        },
        "outputId": "d5075682-b300-4fcc-b661-b08412ba5d32"
      },
      "source": [
        "nltk.corpus.gutenberg.fileids()   #  , nltk = tools -> corpus =corpus = collection of document -> gutenberg -. project (collection of files) -> files"
      ],
      "execution_count": 4,
      "outputs": [
        {
          "output_type": "execute_result",
          "data": {
            "text/plain": [
              "['austen-emma.txt',\n",
              " 'austen-persuasion.txt',\n",
              " 'austen-sense.txt',\n",
              " 'bible-kjv.txt',\n",
              " 'blake-poems.txt',\n",
              " 'bryant-stories.txt',\n",
              " 'burgess-busterbrown.txt',\n",
              " 'carroll-alice.txt',\n",
              " 'chesterton-ball.txt',\n",
              " 'chesterton-brown.txt',\n",
              " 'chesterton-thursday.txt',\n",
              " 'edgeworth-parents.txt',\n",
              " 'melville-moby_dick.txt',\n",
              " 'milton-paradise.txt',\n",
              " 'shakespeare-caesar.txt',\n",
              " 'shakespeare-hamlet.txt',\n",
              " 'shakespeare-macbeth.txt',\n",
              " 'whitman-leaves.txt']"
            ]
          },
          "metadata": {
            "tags": []
          },
          "execution_count": 4
        }
      ]
    },
    {
      "cell_type": "code",
      "metadata": {
        "id": "Trxw_lZGHtO-",
        "colab_type": "code",
        "colab": {}
      },
      "source": [
        "md = nltk.corpus.gutenberg.words(\"chesterton-thursday.txt\")"
      ],
      "execution_count": 5,
      "outputs": []
    },
    {
      "cell_type": "code",
      "metadata": {
        "id": "IEVmqlo5IAOy",
        "colab_type": "code",
        "colab": {
          "base_uri": "https://localhost:8080/",
          "height": 33
        },
        "outputId": "b8dab9da-1af7-4d40-c990-92b541c3e834"
      },
      "source": [
        "print(md)"
      ],
      "execution_count": 6,
      "outputs": [
        {
          "output_type": "stream",
          "text": [
            "['[', 'The', 'Man', 'Who', 'Was', 'Thursday', 'by', ...]\n"
          ],
          "name": "stdout"
        }
      ]
    },
    {
      "cell_type": "code",
      "metadata": {
        "id": "9_sPJIAcIDIU",
        "colab_type": "code",
        "colab": {
          "base_uri": "https://localhost:8080/",
          "height": 1000
        },
        "outputId": "155d2b38-ed50-476f-d589-e2f7fb9aa8f8"
      },
      "source": [
        "md[0:100]  # index 0 to 99 "
      ],
      "execution_count": 7,
      "outputs": [
        {
          "output_type": "execute_result",
          "data": {
            "text/plain": [
              "['[',\n",
              " 'The',\n",
              " 'Man',\n",
              " 'Who',\n",
              " 'Was',\n",
              " 'Thursday',\n",
              " 'by',\n",
              " 'G',\n",
              " '.',\n",
              " 'K',\n",
              " '.',\n",
              " 'Chesterton',\n",
              " '1908',\n",
              " ']',\n",
              " 'To',\n",
              " 'Edmund',\n",
              " 'Clerihew',\n",
              " 'Bentley',\n",
              " 'A',\n",
              " 'cloud',\n",
              " 'was',\n",
              " 'on',\n",
              " 'the',\n",
              " 'mind',\n",
              " 'of',\n",
              " 'men',\n",
              " ',',\n",
              " 'and',\n",
              " 'wailing',\n",
              " 'went',\n",
              " 'the',\n",
              " 'weather',\n",
              " ',',\n",
              " 'Yea',\n",
              " ',',\n",
              " 'a',\n",
              " 'sick',\n",
              " 'cloud',\n",
              " 'upon',\n",
              " 'the',\n",
              " 'soul',\n",
              " 'when',\n",
              " 'we',\n",
              " 'were',\n",
              " 'boys',\n",
              " 'together',\n",
              " '.',\n",
              " 'Science',\n",
              " 'announced',\n",
              " 'nonentity',\n",
              " 'and',\n",
              " 'art',\n",
              " 'admired',\n",
              " 'decay',\n",
              " ';',\n",
              " 'The',\n",
              " 'world',\n",
              " 'was',\n",
              " 'old',\n",
              " 'and',\n",
              " 'ended',\n",
              " ':',\n",
              " 'but',\n",
              " 'you',\n",
              " 'and',\n",
              " 'I',\n",
              " 'were',\n",
              " 'gay',\n",
              " ';',\n",
              " 'Round',\n",
              " 'us',\n",
              " 'in',\n",
              " 'antic',\n",
              " 'order',\n",
              " 'their',\n",
              " 'crippled',\n",
              " 'vices',\n",
              " 'came',\n",
              " '--',\n",
              " 'Lust',\n",
              " 'that',\n",
              " 'had',\n",
              " 'lost',\n",
              " 'its',\n",
              " 'laughter',\n",
              " ',',\n",
              " 'fear',\n",
              " 'that',\n",
              " 'had',\n",
              " 'lost',\n",
              " 'its',\n",
              " 'shame',\n",
              " '.',\n",
              " 'Like',\n",
              " 'the',\n",
              " 'white',\n",
              " 'lock',\n",
              " 'of',\n",
              " 'Whistler',\n",
              " ',']"
            ]
          },
          "metadata": {
            "tags": []
          },
          "execution_count": 7
        }
      ]
    },
    {
      "cell_type": "code",
      "metadata": {
        "id": "7sac82leIF2w",
        "colab_type": "code",
        "colab": {
          "base_uri": "https://localhost:8080/",
          "height": 33
        },
        "outputId": "db1c2fd3-5113-4acd-fba2-c1a584f2e7d3"
      },
      "source": [
        "md.count(\"boys\")  # counting the word in file"
      ],
      "execution_count": 8,
      "outputs": [
        {
          "output_type": "execute_result",
          "data": {
            "text/plain": [
              "2"
            ]
          },
          "metadata": {
            "tags": []
          },
          "execution_count": 8
        }
      ]
    },
    {
      "cell_type": "code",
      "metadata": {
        "id": "6Fw215c_INUS",
        "colab_type": "code",
        "colab": {
          "base_uri": "https://localhost:8080/",
          "height": 33
        },
        "outputId": "aab292a2-d269-4397-ee72-3f4ef723d2ba"
      },
      "source": [
        "md.count(\"boat\")"
      ],
      "execution_count": 9,
      "outputs": [
        {
          "output_type": "execute_result",
          "data": {
            "text/plain": [
              "7"
            ]
          },
          "metadata": {
            "tags": []
          },
          "execution_count": 9
        }
      ]
    },
    {
      "cell_type": "code",
      "metadata": {
        "id": "s7SVPZXOIPvr",
        "colab_type": "code",
        "colab": {
          "base_uri": "https://localhost:8080/",
          "height": 33
        },
        "outputId": "21465ddc-25c1-4e3d-be29-983e26e4337a"
      },
      "source": [
        "len(md)  # count the number of words in file"
      ],
      "execution_count": 10,
      "outputs": [
        {
          "output_type": "execute_result",
          "data": {
            "text/plain": [
              "69213"
            ]
          },
          "metadata": {
            "tags": []
          },
          "execution_count": 10
        }
      ]
    },
    {
      "cell_type": "code",
      "metadata": {
        "id": "S9JLwrzuIWtc",
        "colab_type": "code",
        "colab": {}
      },
      "source": [
        "md_set = set(md) # finding unique words inset"
      ],
      "execution_count": 11,
      "outputs": []
    },
    {
      "cell_type": "code",
      "metadata": {
        "id": "jJUimubqIhQV",
        "colab_type": "code",
        "colab": {
          "base_uri": "https://localhost:8080/",
          "height": 33
        },
        "outputId": "3176f761-be37-4914-c722-0bd4d6a84339"
      },
      "source": [
        "len(md_set)"
      ],
      "execution_count": 12,
      "outputs": [
        {
          "output_type": "execute_result",
          "data": {
            "text/plain": [
              "6807"
            ]
          },
          "metadata": {
            "tags": []
          },
          "execution_count": 12
        }
      ]
    },
    {
      "cell_type": "code",
      "metadata": {
        "id": "FCDwytG_IjX3",
        "colab_type": "code",
        "colab": {}
      },
      "source": [
        "from __future__ import division"
      ],
      "execution_count": 13,
      "outputs": []
    },
    {
      "cell_type": "code",
      "metadata": {
        "id": "7FChaDQbLnXx",
        "colab_type": "code",
        "colab": {
          "base_uri": "https://localhost:8080/",
          "height": 33
        },
        "outputId": "f1c36653-bbc3-4330-c36d-1efce90f8f6b"
      },
      "source": [
        "len(md)/len(md_set) # find the ratio of the  word from all words in documents"
      ],
      "execution_count": 14,
      "outputs": [
        {
          "output_type": "execute_result",
          "data": {
            "text/plain": [
              "10.167915381225209"
            ]
          },
          "metadata": {
            "tags": []
          },
          "execution_count": 14
        }
      ]
    },
    {
      "cell_type": "code",
      "metadata": {
        "id": "HZ7zoLWvMkLa",
        "colab_type": "code",
        "colab": {}
      },
      "source": [
        "md_sents= nltk.corpus.gutenberg.sents(\"chesterton-thursday.txt\") # sentences "
      ],
      "execution_count": 15,
      "outputs": []
    },
    {
      "cell_type": "code",
      "metadata": {
        "id": "vbiZDvuTOa9c",
        "colab_type": "code",
        "colab": {
          "base_uri": "https://localhost:8080/",
          "height": 33
        },
        "outputId": "6b318b95-0040-4a38-ae43-0f1239ddb003"
      },
      "source": [
        "len(md)/len(md_sents) # find in the ratio of the word in sentence"
      ],
      "execution_count": 16,
      "outputs": [
        {
          "output_type": "execute_result",
          "data": {
            "text/plain": [
              "18.496258685195084"
            ]
          },
          "metadata": {
            "tags": []
          },
          "execution_count": 16
        }
      ]
    },
    {
      "cell_type": "code",
      "metadata": {
        "id": "UkZ53x4VOrtR",
        "colab_type": "code",
        "colab": {}
      },
      "source": [
        ""
      ],
      "execution_count": null,
      "outputs": []
    }
  ]
}